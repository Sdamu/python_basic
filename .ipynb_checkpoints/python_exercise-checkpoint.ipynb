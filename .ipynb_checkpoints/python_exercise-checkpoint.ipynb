{
 "cells": [
  {
   "cell_type": "markdown",
   "metadata": {},
   "source": [
    "format = \"Hello, %s. %s enough for ya?\""
   ]
  },
  {
   "cell_type": "code",
   "execution_count": 3,
   "metadata": {
    "collapsed": true
   },
   "outputs": [],
   "source": [
    "values = ('world', 'Hot')"
   ]
  },
  {
   "cell_type": "code",
   "execution_count": 4,
   "metadata": {},
   "outputs": [
    {
     "name": "stdout",
     "output_type": "stream",
     "text": [
      "Hello, world. Hot enough for ya?\n"
     ]
    }
   ],
   "source": [
    "print(format % values)"
   ]
  },
  {
   "cell_type": "code",
   "execution_count": 5,
   "metadata": {
    "collapsed": true
   },
   "outputs": [],
   "source": [
    "format = \"Pi with three decimals: %.3f\""
   ]
  },
  {
   "cell_type": "code",
   "execution_count": 7,
   "metadata": {},
   "outputs": [
    {
     "name": "stdout",
     "output_type": "stream",
     "text": [
      "Pi with three decimals: 3.142\n"
     ]
    }
   ],
   "source": [
    "from math import pi\n",
    "print (format % pi)"
   ]
  },
  {
   "cell_type": "code",
   "execution_count": 8,
   "metadata": {},
   "outputs": [
    {
     "data": {
      "text/plain": [
       "'1 plus 1 equals 2'"
      ]
     },
     "execution_count": 8,
     "metadata": {},
     "output_type": "execute_result"
    }
   ],
   "source": [
    "# 如果需要转换的元组作为转换表达式的一部分存在，那么必须将它用圆括号括起来，避免出错\n",
    "\"%s plus %s equals %s\" % (1, 1, 2)"
   ]
  },
  {
   "cell_type": "markdown",
   "metadata": {},
   "source": [
    "## 3.3.1 简单转换"
   ]
  },
  {
   "cell_type": "markdown",
   "metadata": {},
   "source": [
    "简单转换只需要写出转换类型，使用起来很简单："
   ]
  },
  {
   "cell_type": "code",
   "execution_count": 9,
   "metadata": {},
   "outputs": [
    {
     "data": {
      "text/plain": [
       "'Price of eggs: $42'"
      ]
     },
     "execution_count": 9,
     "metadata": {},
     "output_type": "execute_result"
    }
   ],
   "source": [
    "'Price of eggs: $%d' % 42"
   ]
  },
  {
   "cell_type": "code",
   "execution_count": 1,
   "metadata": {
    "collapsed": true
   },
   "outputs": [
    {
     "data": {
      "text/plain": [
       "'Hexadeciaml price of eggs: 2a'"
      ]
     },
     "execution_count": 1,
     "metadata": {},
     "output_type": "execute_result"
    }
   ],
   "source": [
    "'Hexadeciaml price of eggs: %x' %42"
   ]
  },
  {
   "cell_type": "markdown",
   "metadata": {},
   "source": [
    "## 3.4 字符串方法\n",
    "这一节介绍一些比较常见的字符串方法: "
   ]
  },
  {
   "cell_type": "markdown",
   "metadata": {},
   "source": [
    "### 3.4.1 find\n",
    "find 方法乐意在一个比较长的字符串中查找子串。它返回子串所在位置的最左端索引。如果没有找到则返回 -1."
   ]
  },
  {
   "cell_type": "code",
   "execution_count": 2,
   "metadata": {},
   "outputs": [
    {
     "data": {
      "text/plain": [
       "7"
      ]
     },
     "execution_count": 2,
     "metadata": {},
     "output_type": "execute_result"
    }
   ],
   "source": [
    "'With a moo-moo here. and a moo-moo there'.find('moo')"
   ]
  },
  {
   "cell_type": "code",
   "execution_count": 4,
   "metadata": {},
   "outputs": [
    {
     "data": {
      "text/plain": [
       "0"
      ]
     },
     "execution_count": 4,
     "metadata": {},
     "output_type": "execute_result"
    }
   ],
   "source": [
    "title = \"Monty Python's Flying Circus\"\n",
    "title.find('Monty')"
   ]
  },
  {
   "cell_type": "code",
   "execution_count": 5,
   "metadata": {},
   "outputs": [
    {
     "data": {
      "text/plain": [
       "6"
      ]
     },
     "execution_count": 5,
     "metadata": {},
     "output_type": "execute_result"
    }
   ],
   "source": [
    "title.find('Python')"
   ]
  },
  {
   "cell_type": "code",
   "execution_count": 6,
   "metadata": {},
   "outputs": [
    {
     "data": {
      "text/plain": [
       "15"
      ]
     },
     "execution_count": 6,
     "metadata": {},
     "output_type": "execute_result"
    }
   ],
   "source": [
    "title.find('Flying')"
   ]
  },
  {
   "cell_type": "code",
   "execution_count": 7,
   "metadata": {},
   "outputs": [
    {
     "data": {
      "text/plain": [
       "-1"
      ]
     },
     "execution_count": 7,
     "metadata": {},
     "output_type": "execute_result"
    }
   ],
   "source": [
    "title.find('Zirquss')"
   ]
  },
  {
   "cell_type": "markdown",
   "metadata": {},
   "source": [
    "**需要注意的是，函数 find 返回的并不是布尔值。如果返回的是0，则说明在位置 0 处找到了想要找的字符串**\n",
    "此外，这个方法还可以接受可选的起始点和结束点参数："
   ]
  },
  {
   "cell_type": "code",
   "execution_count": 8,
   "metadata": {},
   "outputs": [
    {
     "data": {
      "text/plain": [
       "0"
      ]
     },
     "execution_count": 8,
     "metadata": {},
     "output_type": "execute_result"
    }
   ],
   "source": [
    "subject = '$$$ Get rich now!!! $$$'\n",
    "subject.find('$$$')"
   ]
  },
  {
   "cell_type": "code",
   "execution_count": 9,
   "metadata": {},
   "outputs": [
    {
     "data": {
      "text/plain": [
       "20"
      ]
     },
     "execution_count": 9,
     "metadata": {},
     "output_type": "execute_result"
    }
   ],
   "source": [
    "subject.find('$$$', 1) # 只提供起始点位置"
   ]
  },
  {
   "cell_type": "code",
   "execution_count": 10,
   "metadata": {},
   "outputs": [
    {
     "data": {
      "text/plain": [
       "16"
      ]
     },
     "execution_count": 10,
     "metadata": {},
     "output_type": "execute_result"
    }
   ],
   "source": [
    "subject.find('!!!')"
   ]
  },
  {
   "cell_type": "code",
   "execution_count": 12,
   "metadata": {},
   "outputs": [
    {
     "data": {
      "text/plain": [
       "-1"
      ]
     },
     "execution_count": 12,
     "metadata": {},
     "output_type": "execute_result"
    }
   ],
   "source": [
    "subject.find('!!!',0,16)"
   ]
  },
  {
   "cell_type": "markdown",
   "metadata": {},
   "source": [
    "**注意，由起始和终止指定的范围（第二个和第三个参数）包含第一个索引，但是并不包含第二个索引，这在 python 中是一个惯例**"
   ]
  },
  {
   "cell_type": "markdown",
   "metadata": {},
   "source": [
    "### 3.4.2 join\n",
    "join 方法是一个非常重要的字符串方法，它是 split 方法的逆方法，用来连接序列中的元素。"
   ]
  },
  {
   "cell_type": "code",
   "execution_count": 13,
   "metadata": {},
   "outputs": [
    {
     "ename": "TypeError",
     "evalue": "sequence item 0: expected str instance, int found",
     "output_type": "error",
     "traceback": [
      "\u001b[0;31m---------------------------------------------------------------------------\u001b[0m",
      "\u001b[0;31mTypeError\u001b[0m                                 Traceback (most recent call last)",
      "\u001b[0;32m<ipython-input-13-dd45e38214c6>\u001b[0m in \u001b[0;36m<module>\u001b[0;34m()\u001b[0m\n\u001b[1;32m      1\u001b[0m \u001b[0mseq\u001b[0m \u001b[0;34m=\u001b[0m \u001b[0;34m[\u001b[0m\u001b[0;36m1\u001b[0m\u001b[0;34m,\u001b[0m \u001b[0;36m2\u001b[0m\u001b[0;34m,\u001b[0m \u001b[0;36m3\u001b[0m\u001b[0;34m,\u001b[0m \u001b[0;36m4\u001b[0m\u001b[0;34m,\u001b[0m \u001b[0;36m5\u001b[0m\u001b[0;34m]\u001b[0m\u001b[0;34m\u001b[0m\u001b[0m\n\u001b[1;32m      2\u001b[0m \u001b[0msep\u001b[0m \u001b[0;34m=\u001b[0m \u001b[0;34m'+'\u001b[0m\u001b[0;34m\u001b[0m\u001b[0m\n\u001b[0;32m----> 3\u001b[0;31m \u001b[0msep\u001b[0m\u001b[0;34m.\u001b[0m\u001b[0mjoin\u001b[0m\u001b[0;34m(\u001b[0m\u001b[0mseq\u001b[0m\u001b[0;34m)\u001b[0m  \u001b[0;31m# 连接数字列表\u001b[0m\u001b[0;34m\u001b[0m\u001b[0m\n\u001b[0m",
      "\u001b[0;31mTypeError\u001b[0m: sequence item 0: expected str instance, int found"
     ]
    }
   ],
   "source": [
    "seq = [1, 2, 3, 4, 5]\n",
    "sep = '+'\n",
    "sep.join(seq)  # 连接数字列表"
   ]
  },
  {
   "cell_type": "code",
   "execution_count": 14,
   "metadata": {},
   "outputs": [
    {
     "data": {
      "text/plain": [
       "'1+2+3+4+5'"
      ]
     },
     "execution_count": 14,
     "metadata": {},
     "output_type": "execute_result"
    }
   ],
   "source": [
    "seq = [\"1\", \"2\", \"3\", \"4\", \"5\"]\n",
    "sep.join(seq)  # 连接字符串列表"
   ]
  },
  {
   "cell_type": "code",
   "execution_count": 16,
   "metadata": {},
   "outputs": [
    {
     "data": {
      "text/plain": [
       "'/usr/bin/env'"
      ]
     },
     "execution_count": 16,
     "metadata": {},
     "output_type": "execute_result"
    }
   ],
   "source": [
    "dirs = '', 'usr','bin', 'env'\n",
    "'/'.join(dirs)"
   ]
  },
  {
   "cell_type": "code",
   "execution_count": 17,
   "metadata": {},
   "outputs": [
    {
     "name": "stdout",
     "output_type": "stream",
     "text": [
      "C:\\usr\\bin\\env\n"
     ]
    }
   ],
   "source": [
    "print('C:'+ '\\\\'.join(dirs))"
   ]
  },
  {
   "cell_type": "markdown",
   "metadata": {},
   "source": [
    "可以看到，需要被连接的序列元素必须都是字符串。注意最后两个例子中使用了目录的列表，而在格式化时，根据不同系统下的约定，使用了不同的分隔符号"
   ]
  },
  {
   "cell_type": "markdown",
   "metadata": {},
   "source": [
    "### 3.4.3 lower\n",
    "lower 方法返回字符串的小写字母版"
   ]
  },
  {
   "cell_type": "code",
   "execution_count": 18,
   "metadata": {},
   "outputs": [
    {
     "data": {
      "text/plain": [
       "'tronheim hammer dance'"
      ]
     },
     "execution_count": 18,
     "metadata": {},
     "output_type": "execute_result"
    }
   ],
   "source": [
    "\"Tronheim Hammer Dance\".lower()"
   ]
  },
  {
   "cell_type": "markdown",
   "metadata": {},
   "source": [
    "如果想要比那些“不区分大小写”的代码的话，那么这个方法就派上用场了————代码会忽略大小写状态。\n",
    "例如，如果想在列表中查找一个用户名是否存在：列表中包含字符串 ‘gumby’,而用户输入的是 ‘Gumby’，就找不到了\n",
    "如果存储的是 “Gumby” 而用户输入 ‘gumby’ 甚至是 ‘GUMBY’，结果也是一样的。解决方法就是在存储和搜索时把所有名字都转换成为小写。如下所示："
   ]
  },
  {
   "cell_type": "code",
   "execution_count": 19,
   "metadata": {
    "collapsed": true
   },
   "outputs": [],
   "source": [
    "name = 'Gumby'"
   ]
  },
  {
   "cell_type": "code",
   "execution_count": 20,
   "metadata": {
    "collapsed": true
   },
   "outputs": [],
   "source": [
    "names = ['gumby', 'smith', 'jones']"
   ]
  },
  {
   "cell_type": "code",
   "execution_count": 22,
   "metadata": {},
   "outputs": [
    {
     "name": "stdout",
     "output_type": "stream",
     "text": [
      "Found it!\n"
     ]
    }
   ],
   "source": [
    "if name.lower() in names:\n",
    "    print ('Found it!')"
   ]
  },
  {
   "cell_type": "markdown",
   "metadata": {},
   "source": [
    "### 3.4.4 replace\n",
    "replace 方法返回某字符串的所有匹配项均被替换之后得到字符串。"
   ]
  },
  {
   "cell_type": "code",
   "execution_count": 23,
   "metadata": {},
   "outputs": [
    {
     "data": {
      "text/plain": [
       "'Theez eez a test'"
      ]
     },
     "execution_count": 23,
     "metadata": {},
     "output_type": "execute_result"
    }
   ],
   "source": [
    "\"This is a test\".replace('is', 'eez')"
   ]
  },
  {
   "cell_type": "markdown",
   "metadata": {},
   "source": [
    "### 3.4.5 split\n",
    "这是一个非常重要的字符串方法，它是 join 的逆方法，用来将字符串分割成为序列。"
   ]
  },
  {
   "cell_type": "code",
   "execution_count": 24,
   "metadata": {},
   "outputs": [
    {
     "data": {
      "text/plain": [
       "['1', '2', '3', '4', '5']"
      ]
     },
     "execution_count": 24,
     "metadata": {},
     "output_type": "execute_result"
    }
   ],
   "source": [
    "'1+2+3+4+5'.split('+')"
   ]
  },
  {
   "cell_type": "code",
   "execution_count": 25,
   "metadata": {},
   "outputs": [
    {
     "data": {
      "text/plain": [
       "['', 'usr', 'bin', 'env']"
      ]
     },
     "execution_count": 25,
     "metadata": {},
     "output_type": "execute_result"
    }
   ],
   "source": [
    "'/usr/bin/env'.split('/')"
   ]
  },
  {
   "cell_type": "code",
   "execution_count": 26,
   "metadata": {},
   "outputs": [
    {
     "data": {
      "text/plain": [
       "['Using', 'the', 'default']"
      ]
     },
     "execution_count": 26,
     "metadata": {},
     "output_type": "execute_result"
    }
   ],
   "source": [
    "'Using the default'.split()"
   ]
  },
  {
   "cell_type": "markdown",
   "metadata": {},
   "source": [
    "**注意，如果不提供任何分隔符，则程序会把所有空格作为分隔符（空格，制表，换行等）。**"
   ]
  },
  {
   "cell_type": "markdown",
   "metadata": {},
   "source": [
    "### 3.4.6 strip\n",
    "strip 方法返回去除两侧（不包括内部）空格的字符串："
   ]
  },
  {
   "cell_type": "code",
   "execution_count": 1,
   "metadata": {},
   "outputs": [
    {
     "data": {
      "text/plain": [
       "['internal', 'whitespace', 'is', 'kept']"
      ]
     },
     "execution_count": 1,
     "metadata": {},
     "output_type": "execute_result"
    }
   ],
   "source": [
    "'        internal whitespace is kept        '.split()"
   ]
  },
  {
   "cell_type": "markdown",
   "metadata": {},
   "source": [
    "这个方法和 lower 方法一起使用的话就可以很方便的对比输入和存储的值。\n",
    "假设用户在输入名字的时候无意中在名字后面加上了空格："
   ]
  },
  {
   "cell_type": "code",
   "execution_count": 2,
   "metadata": {
    "collapsed": true
   },
   "outputs": [],
   "source": [
    "names = ['gumby', 'smith', 'jones']\n",
    "name = 'gumby '\n",
    "if name in names: \n",
    "    print('Found it!')"
   ]
  },
  {
   "cell_type": "code",
   "execution_count": 3,
   "metadata": {},
   "outputs": [
    {
     "name": "stdout",
     "output_type": "stream",
     "text": [
      "Found it!\n"
     ]
    }
   ],
   "source": [
    "if name.strip() in names:\n",
    "    print('Found it!')"
   ]
  },
  {
   "cell_type": "markdown",
   "metadata": {},
   "source": [
    "此外，这个函数也可以指定需要去除的字符，将他们列为参数即可。"
   ]
  },
  {
   "cell_type": "code",
   "execution_count": 4,
   "metadata": {},
   "outputs": [
    {
     "data": {
      "text/plain": [
       "'SPAM * for * everyone'"
      ]
     },
     "execution_count": 4,
     "metadata": {},
     "output_type": "execute_result"
    }
   ],
   "source": [
    "'*** SPAM * for * everyone!!! ***'.strip(' *!')"
   ]
  },
  {
   "cell_type": "markdown",
   "metadata": {},
   "source": [
    "出现上面这个结果的原因是，**这个方法只能去除两侧的字符，所以字符串中间的星号并没有被去掉。**"
   ]
  },
  {
   "cell_type": "markdown",
   "metadata": {},
   "source": [
    "### 3.4.7 translate\n",
    "translate 方法和 replace 方法一样，可以替换字符串中的某些部分，但是和前者不同的是，translate 方法只处理单个字符\n",
    "使用这个方法的方式有很多（比如替换换行符或者其他因平台而异的特殊字符）。但是让我们考虑一个简单的例子（很简单的例子）：\n",
    "假设需要将纯正的英文文本转换为带有德国口音的版本。为此，需要把字符 c 替换为 z。\n",
    "使用 translate 转换之前，需要先完整一张转换表。转换表中是以某字符替换某字符的对应关系。因为这个表（事实上是字符串）有多达256个项目，我们还是不要自己写了, 使用string 模块里面的 maketrans 函数即可。\n",
    "maketrans 函数接受两个参数：两个等长的字符串，表示第一个字符串中的每个字符都用第二个字符串中相同位置的字符替换。\n",
    "例子如下所示："
   ]
  },
  {
   "cell_type": "code",
   "execution_count": 5,
   "metadata": {},
   "outputs": [
    {
     "ename": "ImportError",
     "evalue": "cannot import name 'maketrans'",
     "output_type": "error",
     "traceback": [
      "\u001b[0;31m---------------------------------------------------------------------------\u001b[0m",
      "\u001b[0;31mImportError\u001b[0m                               Traceback (most recent call last)",
      "\u001b[0;32m<ipython-input-5-59f0b631a460>\u001b[0m in \u001b[0;36m<module>\u001b[0;34m()\u001b[0m\n\u001b[0;32m----> 1\u001b[0;31m \u001b[0;32mfrom\u001b[0m \u001b[0mstring\u001b[0m \u001b[0;32mimport\u001b[0m \u001b[0mmaketrans\u001b[0m\u001b[0;34m\u001b[0m\u001b[0m\n\u001b[0m\u001b[1;32m      2\u001b[0m \u001b[0mtable\u001b[0m \u001b[0;34m=\u001b[0m \u001b[0mmaketrans\u001b[0m\u001b[0;34m(\u001b[0m\u001b[0;34m'cs'\u001b[0m\u001b[0;34m,\u001b[0m \u001b[0;34m'kz'\u001b[0m\u001b[0;34m)\u001b[0m\u001b[0;34m\u001b[0m\u001b[0m\n",
      "\u001b[0;31mImportError\u001b[0m: cannot import name 'maketrans'"
     ]
    }
   ],
   "source": [
    "from string import maketrans\n",
    "table = maketrans('cs', 'kz')"
   ]
  },
  {
   "cell_type": "code",
   "execution_count": 6,
   "metadata": {
    "collapsed": true
   },
   "outputs": [],
   "source": [
    "import string"
   ]
  },
  {
   "cell_type": "markdown",
   "metadata": {},
   "source": [
    "# 4.字典"
   ]
  },
  {
   "cell_type": "markdown",
   "metadata": {},
   "source": [
    "我们已经了解到，列表这种数据结构适合于将值组织到一个结构中，并且通过编号对其进行引用。在下面的内容中，将会接触到一种新的数据结构，这种数据结构称为“映射”(mapping)。字典是Python 中唯一內建的映射类型。字典中的值并没有特殊的顺序，但是都存储在一个特定的键(key)下。键可以使数字、字符甚至是元组。"
   ]
  },
  {
   "cell_type": "markdown",
   "metadata": {},
   "source": [
    "## 4.1 字典的使用\n",
    "字典这个名称已经给出了有关这个数据结构功能的一些提示：一方面，对于普通的书来说，都是按照从头到尾的顺粗进行阅读。但是如果愿意，也可以快速翻到某一页，这有点像 Python 中的列表。另一方面，构造字典的目的，不管是现实中的字典还是在 Python 中的字典，都是为了可以通过轻松的查找某个特定的词语（键），从而找到它的定义（值）。\n",
    "在某些情况下，字典比列表更加适用，比如说：\n",
    "- 表示一个游戏棋盘的状态，每个键都是有坐标值组成的元素\n",
    "- 存储文件修改时间，用文件名作为键\n",
    "- 数字电话/地址簿"
   ]
  },
  {
   "cell_type": "markdown",
   "metadata": {},
   "source": [
    "## 4.2 创建和使用字典"
   ]
  },
  {
   "cell_type": "code",
   "execution_count": 1,
   "metadata": {
    "collapsed": true
   },
   "outputs": [],
   "source": [
    "phonebook={'Alice':'2341', 'Beth':'9102', 'Cecil':3258}"
   ]
  },
  {
   "cell_type": "markdown",
   "metadata": {},
   "source": [
    "字典由多个键值以及与其对应的键-值对组成（我们也把键-值对 称为项）。在上面的例子中，名字是键，电话号码是值。每个键和它的值之间用冒号（：）进行隔开，项之间的项用逗号隔开，而整个字典有一对大括号括起来。\n",
    "**需要注意的是**，字典中的键是唯一的，而值并不唯一。"
   ]
  },
  {
   "cell_type": "markdown",
   "metadata": {},
   "source": [
    "### 4.2.1 dict 函数\n",
    "可以用 dict 函数，通过其他映射（比如是其他字典）或者（键，值）对的序列建立字典"
   ]
  },
  {
   "cell_type": "code",
   "execution_count": 2,
   "metadata": {},
   "outputs": [
    {
     "name": "stdout",
     "output_type": "stream",
     "text": [
      "{'name': 'Gumby', 'age': 42}\n",
      "Gumby\n"
     ]
    }
   ],
   "source": [
    "items = [('name', 'Gumby'),('age', 42)]\n",
    "d = dict(items)\n",
    "print(d)\n",
    "print(d['name'])"
   ]
  },
  {
   "cell_type": "markdown",
   "metadata": {},
   "source": [
    "此外，dict 函数也可以通过关键字参数来创建字典，如下所示："
   ]
  },
  {
   "cell_type": "code",
   "execution_count": 3,
   "metadata": {},
   "outputs": [
    {
     "name": "stdout",
     "output_type": "stream",
     "text": [
      "{'name': 'Gumby', 'age': 42}\n"
     ]
    }
   ],
   "source": [
    "d = dict(name='Gumby', age=42)\n",
    "print(d)"
   ]
  },
  {
   "cell_type": "markdown",
   "metadata": {},
   "source": [
    "### 4.2.2 基本字典操作\n",
    "字典的基本行为在很多方面与**序列(sequence)**类似：\n",
    "- len(d)：返回 d 中项（键-值对）的数量\n",
    "- d[k]: 返回关联到键 k 上的值\n",
    "- d[k]=v ：将值 v 关联到键 k 上\n",
    "- del d[k]：删除键为 k 的项\n",
    "- k in d：检查 d 中是否含有键为 k 的项\n",
    "\n",
    "尽管字典和列表中有很多特性相同，但是也有下面一些重要的区别：\n",
    "- **键类型**：字典的键类型不一定为整型数据（但也可以是），键可以使任意的不可变类型，比如浮点型（实型），字符串或者元组\n",
    "- **自动添加**：即使键处在字典中并不存在，也可以为它赋值，这样字典就会建立新的项。而（在不使用 append 方法或者其他类似操作的情况下）不能将值关联到列表范围之位的索引上\n",
    "- **成员资格**：表达式 k in d（d 为字典）**查找的是键，而不是值**，而表达式 v in lst（lst 是列表）则是用来查找值，而不是索引。\n",
    "\n",
    "需要说明的是，在字典中间差键的成员资格比在列表中检查值得资格更为高效，数据结构的规模越大，两者的效率差距也就越明显。\n",
    "下面为几个实例："
   ]
  },
  {
   "cell_type": "code",
   "execution_count": 4,
   "metadata": {},
   "outputs": [
    {
     "ename": "IndexError",
     "evalue": "list assignment index out of range",
     "output_type": "error",
     "traceback": [
      "\u001b[1;31m---------------------------------------------------------------------------\u001b[0m",
      "\u001b[1;31mIndexError\u001b[0m                                Traceback (most recent call last)",
      "\u001b[1;32m<ipython-input-4-683d43ee16ef>\u001b[0m in \u001b[0;36m<module>\u001b[1;34m()\u001b[0m\n\u001b[0;32m      1\u001b[0m \u001b[0mx\u001b[0m \u001b[1;33m=\u001b[0m \u001b[1;33m[\u001b[0m\u001b[1;33m]\u001b[0m \u001b[1;31m# x 为列表\u001b[0m\u001b[1;33m\u001b[0m\u001b[0m\n\u001b[1;32m----> 2\u001b[1;33m \u001b[0mx\u001b[0m\u001b[1;33m[\u001b[0m\u001b[1;36m42\u001b[0m\u001b[1;33m]\u001b[0m \u001b[1;33m=\u001b[0m \u001b[1;34m'Foobar'\u001b[0m\u001b[1;33m\u001b[0m\u001b[0m\n\u001b[0m",
      "\u001b[1;31mIndexError\u001b[0m: list assignment index out of range"
     ]
    }
   ],
   "source": [
    "x = [] # x 为列表\n",
    "x[42] = 'Foobar'\n",
    "# 会报错，因为列表不允许使用这种自动添加结构"
   ]
  },
  {
   "cell_type": "code",
   "execution_count": 6,
   "metadata": {},
   "outputs": [
    {
     "name": "stdout",
     "output_type": "stream",
     "text": [
      "{42: 'Foobar'}\n"
     ]
    }
   ],
   "source": [
    "x = {}\n",
    "x[42] = 'Foobar'\n",
    "print(x)\n",
    "# 不会报错"
   ]
  },
  {
   "cell_type": "markdown",
   "metadata": {},
   "source": [
    "字典实例 4-1："
   ]
  },
  {
   "cell_type": "code",
   "execution_count": 9,
   "metadata": {},
   "outputs": [
    {
     "name": "stdout",
     "output_type": "stream",
     "text": [
      "Name: Beth\n",
      "Phone number (p) or address(a)?p\n",
      "Beth's phone number is 9102.\n"
     ]
    }
   ],
   "source": [
    "# 一个简单的数据库\n",
    "# 字典使用人名作为键，每个人用另一个字典来表示，其键‘phone’和‘addr’分别表示他们的电话号码和住址\n",
    "\n",
    "people = {\n",
    "    'Alice':{\n",
    "        'phone':2341,\n",
    "        'addr':'Foo drive 23'\n",
    "    },\n",
    "    'Beth':{\n",
    "        'phone':9102,\n",
    "        'addr':'Bar street 42'\n",
    "    },\n",
    "    'Cecil':{\n",
    "        'phone':3158,\n",
    "        'addr':'Baz avenue 90'\n",
    "    }\n",
    "}\n",
    "# 针对电话号码和地址是用的描述性标签，会在打印输出时有用\n",
    "labels = {\n",
    "    'phone':'phone number',\n",
    "    'addr':'address'\n",
    "}\n",
    "\n",
    "name = input('Name: ')\n",
    "\n",
    "# 查找电话号码还是地址？\n",
    "request = input('Phone number (p) or address(a)?')\n",
    "\n",
    "# 使用正确的键\n",
    "if request == 'p':\n",
    "    key = 'phone'\n",
    "if request == 'a':\n",
    "    key = 'addr'\n",
    "    \n",
    "# 如果名字是字典中的有效键才打印信息：\n",
    "if name in people:\n",
    "    print(\"%s's %s is %s.\" % (name, labels[key],people[name][key]))\n",
    "# 从最后一句话中我们可以看到一个嵌套字典应该如何使用"
   ]
  },
  {
   "cell_type": "markdown",
   "metadata": {},
   "source": [
    "### 4.2.4 字典方法\n",
    "就像其他內建类型一样，字典也有方法。这些方法非常有用，但是可能不会像列表或者字符串方法那样被频繁的使用。可以先了解一下这些方法中可以实现哪些功能，然后在以后的学习工作中遇到相关功能再进行查阅即可"
   ]
  },
  {
   "cell_type": "markdown",
   "metadata": {},
   "source": [
    "#### 1.clear\n",
    "clear 方法清除字典中所有的项。这是一个原地操作（类似于list.sort()）,所以没有返回值（或者说是返回值 None）"
   ]
  },
  {
   "cell_type": "code",
   "execution_count": 2,
   "metadata": {},
   "outputs": [
    {
     "name": "stdout",
     "output_type": "stream",
     "text": [
      "{'name': 'Gumby', 'age': 42}\n"
     ]
    }
   ],
   "source": [
    "d = {}\n",
    "d['name'] = 'Gumby'\n",
    "d['age'] = 42\n",
    "print(d)"
   ]
  },
  {
   "cell_type": "code",
   "execution_count": 3,
   "metadata": {
    "collapsed": true
   },
   "outputs": [
    {
     "name": "stdout",
     "output_type": "stream",
     "text": [
      "{}\n",
      "None\n"
     ]
    }
   ],
   "source": [
    "returned_value = d.clear()\n",
    "print(d)\n",
    "print(returned_value)"
   ]
  },
  {
   "cell_type": "code",
   "execution_count": 4,
   "metadata": {
    "collapsed": true
   },
   "outputs": [
    {
     "name": "stdout",
     "output_type": "stream",
     "text": [
      "{'key': 'value'}\n",
      "{'key': 'value'}\n"
     ]
    }
   ],
   "source": [
    "x = {}\n",
    "y = x\n",
    "x['key'] = 'value'\n",
    "print(y)\n",
    "x = {}\n",
    "print(y)"
   ]
  },
  {
   "cell_type": "markdown",
   "metadata": {},
   "source": [
    "通过观察结果我们可以看到，x 和 y 最初对应同一个字典，在这种情况中，我们通过将 x 关联到一个新的空字典来“清空它”，但是这**对y来说一点影响也没有**，它还是关联到原先的字典。"
   ]
  },
  {
   "cell_type": "code",
   "execution_count": 5,
   "metadata": {
    "collapsed": true
   },
   "outputs": [
    {
     "name": "stdout",
     "output_type": "stream",
     "text": [
      "{'key': 'value'}\n",
      "{}\n"
     ]
    }
   ],
   "source": [
    "x = {}\n",
    "y = x\n",
    "x['key'] = 'value'\n",
    "print(y)\n",
    "x.clear()\n",
    "print(y)"
   ]
  },
  {
   "cell_type": "markdown",
   "metadata": {},
   "source": [
    "在这种情况中，前面的情况与上面的完全相同，只是后面清空 x 的时候使用的是 clear 方法，我们可以看到，使用这种方法后成功的将 y 也进行了清空"
   ]
  },
  {
   "cell_type": "markdown",
   "metadata": {},
   "source": [
    "#### 2.copy\n",
    "copy 方法返回一个具有相同键值对的新字典（这个方法实现的是浅层拷贝——shallow copy，因为值本身就是相同的，而不是副本）"
   ]
  },
  {
   "cell_type": "code",
   "execution_count": 7,
   "metadata": {},
   "outputs": [
    {
     "name": "stdout",
     "output_type": "stream",
     "text": [
      "{'username': 'mlh', 'machines': ['foo', 'baz']}\n",
      "{'username': 'admin', 'machines': ['foo', 'baz']}\n"
     ]
    }
   ],
   "source": [
    "x = {'username':'admin', 'machines':['foo', 'bar', 'baz']}\n",
    "y = x.copy()\n",
    "y['username'] = 'mlh'\n",
    "y['machines'].remove('bar')\n",
    "print(y)\n",
    "print(x)"
   ]
  },
  {
   "cell_type": "markdown",
   "metadata": {},
   "source": [
    "可以看到，当副本中替换值得时候，原始字典**并不受影响**，但是，如果修改了某个值（原地修改，而并不是替换），则原始字典也会改变，因为同样的值也存储在云字典中，就像这个例子中machines列表中一样"
   ]
  },
  {
   "cell_type": "markdown",
   "metadata": {},
   "source": [
    "避免这个问题的一种方法是使用 **深层复制(deep copy)**，复制其包含的所有值，可以使用 copy 模块的 **deepcopy** 函数来完成这个功能"
   ]
  },
  {
   "cell_type": "code",
   "execution_count": 1,
   "metadata": {},
   "outputs": [
    {
     "name": "stdout",
     "output_type": "stream",
     "text": [
      "{'names': ['Alfred', 'Bertrand', 'Clive']}\n",
      "{'names': ['Alfred', 'Bertrand']}\n"
     ]
    }
   ],
   "source": [
    "from copy import deepcopy\n",
    "d = {}\n",
    "d['names']=['Alfred', 'Bertrand']\n",
    "c = d.copy()\n",
    "dc = deepcopy(d)\n",
    "d['names'].append('Clive')\n",
    "print(c)\n",
    "print(dc)"
   ]
  },
  {
   "cell_type": "markdown",
   "metadata": {},
   "source": [
    "可以看到，对于 c 来说，它是一个浅层拷贝的对象，所以对原对象的操作同样也影响了复制后的值。而dc 是一个深层拷贝的对象，所以对原对象的操作并不影响它的值。"
   ]
  },
  {
   "cell_type": "markdown",
   "metadata": {},
   "source": [
    "#### 3. fromkeys\n",
    "fromkeys 方法使用给定的键建立新的字典，每个键都对应一个默认的 None."
   ]
  },
  {
   "cell_type": "code",
   "execution_count": 2,
   "metadata": {},
   "outputs": [
    {
     "data": {
      "text/plain": [
       "{'key': None, 'name': None}"
      ]
     },
     "execution_count": 2,
     "metadata": {},
     "output_type": "execute_result"
    }
   ],
   "source": [
    "{}.fromkeys(['name', 'key'])"
   ]
  },
  {
   "cell_type": "markdown",
   "metadata": {},
   "source": [
    "上面的例子中首先构造了一个空的字典，然后调用它的 fromkeys 方法，建立另外一个字典——有些多余。此外，还可以直接在 dict 上面调用这个方法。\n",
    "dict 是所有字典的类型"
   ]
  },
  {
   "cell_type": "code",
   "execution_count": 3,
   "metadata": {},
   "outputs": [
    {
     "data": {
      "text/plain": [
       "{'age': None, 'name': None}"
      ]
     },
     "execution_count": 3,
     "metadata": {},
     "output_type": "execute_result"
    }
   ],
   "source": [
    "dict.fromkeys(['name', 'age'])"
   ]
  },
  {
   "cell_type": "markdown",
   "metadata": {},
   "source": [
    "如果不想使用 None 作为默认值，也可以自己提供默认值"
   ]
  },
  {
   "cell_type": "code",
   "execution_count": 5,
   "metadata": {},
   "outputs": [
    {
     "data": {
      "text/plain": [
       "{'age': 5, 'name': 5}"
      ]
     },
     "execution_count": 5,
     "metadata": {},
     "output_type": "execute_result"
    }
   ],
   "source": [
    "dict.fromkeys(['name', 'age'], '(unknown)')"
   ]
  },
  {
   "cell_type": "markdown",
   "metadata": {},
   "source": [
    "可以看出，fromkey 这个函数的第二个参数是用来将所有 键 初始化的 value"
   ]
  },
  {
   "cell_type": "markdown",
   "metadata": {},
   "source": [
    "#### 4.get\n",
    "get 方法是个更为宽松的访问字典项的方法。一般来说，如果试图访问某个不存在的项时会出错："
   ]
  },
  {
   "cell_type": "code",
   "execution_count": 6,
   "metadata": {},
   "outputs": [
    {
     "ename": "KeyError",
     "evalue": "'name'",
     "output_type": "error",
     "traceback": [
      "\u001b[1;31m---------------------------------------------------------------------------\u001b[0m",
      "\u001b[1;31mKeyError\u001b[0m                                  Traceback (most recent call last)",
      "\u001b[1;32m<ipython-input-6-9470aa1621e7>\u001b[0m in \u001b[0;36m<module>\u001b[1;34m()\u001b[0m\n\u001b[0;32m      1\u001b[0m \u001b[0md\u001b[0m \u001b[1;33m=\u001b[0m \u001b[1;33m{\u001b[0m\u001b[1;33m}\u001b[0m\u001b[1;33m\u001b[0m\u001b[0m\n\u001b[1;32m----> 2\u001b[1;33m \u001b[0mprint\u001b[0m\u001b[1;33m(\u001b[0m\u001b[0md\u001b[0m\u001b[1;33m[\u001b[0m\u001b[1;34m'name'\u001b[0m\u001b[1;33m]\u001b[0m\u001b[1;33m)\u001b[0m\u001b[1;33m\u001b[0m\u001b[0m\n\u001b[0m",
      "\u001b[1;31mKeyError\u001b[0m: 'name'"
     ]
    }
   ],
   "source": [
    "d = {}\n",
    "print(d['name'])"
   ]
  },
  {
   "cell_type": "markdown",
   "metadata": {},
   "source": [
    "然而如果使用 get 函数就不会报错："
   ]
  },
  {
   "cell_type": "code",
   "execution_count": 7,
   "metadata": {},
   "outputs": [
    {
     "name": "stdout",
     "output_type": "stream",
     "text": [
      "None\n"
     ]
    }
   ],
   "source": [
    "print (d.get('name'))"
   ]
  },
  {
   "cell_type": "markdown",
   "metadata": {},
   "source": [
    "可以看到，当使用 get 访问一个不存在的键值时，没有任何异常，而得到了 None 值。此外，还可以自己定义这个 “默认”值，用来替换 None："
   ]
  },
  {
   "cell_type": "code",
   "execution_count": 8,
   "metadata": {},
   "outputs": [
    {
     "data": {
      "text/plain": [
       "'N/A'"
      ]
     },
     "execution_count": 8,
     "metadata": {},
     "output_type": "execute_result"
    }
   ],
   "source": [
    "d.get('name', 'N/A')"
   ]
  },
  {
   "cell_type": "markdown",
   "metadata": {},
   "source": [
    "而如果键存在，get 函数用起来就想普通的字典查询一样："
   ]
  },
  {
   "cell_type": "code",
   "execution_count": 9,
   "metadata": {},
   "outputs": [
    {
     "data": {
      "text/plain": [
       "'Eric'"
      ]
     },
     "execution_count": 9,
     "metadata": {},
     "output_type": "execute_result"
    }
   ],
   "source": [
    "d['name']='Eric'\n",
    "d.get('name')"
   ]
  },
  {
   "cell_type": "markdown",
   "metadata": {},
   "source": [
    "下面的代码使用 get 方法来访问“数据库”实体"
   ]
  },
  {
   "cell_type": "code",
   "execution_count": 10,
   "metadata": {},
   "outputs": [
    {
     "name": "stdout",
     "output_type": "stream",
     "text": [
      "Name: Gumby\n",
      "Phone number (p) or address (a)? a\n",
      "Gumby's address is not available.\n"
     ]
    }
   ],
   "source": [
    "# 使用 get() 的简单数据库\n",
    "\n",
    "people = {\n",
    "    'Alice':{\n",
    "        'phone':2341,\n",
    "        'addr':'Foo drive 23'\n",
    "    },\n",
    "    'Beth':{\n",
    "        'phone':9102,\n",
    "        'addr':'Bar street 42'\n",
    "    },\n",
    "    'Cecil':{\n",
    "        'phone':3158,\n",
    "        'addr':'Baz avenue 90'\n",
    "    }\n",
    "}\n",
    "\n",
    "labels = {\n",
    "    'phone': 'phone number',\n",
    "    'addr': 'address'\n",
    "}\n",
    "\n",
    "name = input('Name: ')\n",
    "\n",
    "# 查找电话号码还是地址？\n",
    "request = input('Phone number (p) or address (a)? ')\n",
    "\n",
    "# 使用正确的键:\n",
    "key = request  # 如果请求既不是 'p' 也不是 'a'\n",
    "if request == 'p' : \n",
    "    key = 'phone'\n",
    "if request == 'a':\n",
    "    key = 'addr'\n",
    "\n",
    "# 使用 get（） 提取默认值：\n",
    "person = people.get(name, {})\n",
    "label = labels.get(key, key)\n",
    "result = person.get(key, 'not available')\n",
    "\n",
    "print(\"%s's %s is %s.\" % (name, label, result))"
   ]
  },
  {
   "cell_type": "markdown",
   "metadata": {},
   "source": [
    "上面是程序的输出。注意 get 方法带来的灵活性是如何使得程序在用户输入我们并未准备的值时也能够做出合理的反应"
   ]
  },
  {
   "cell_type": "markdown",
   "metadata": {},
   "source": [
    "#### 5. has_key\n",
    "has_key 方法可以检查字典中是否含有特定的 **键**。表达式 d.has_key(k) 相当于表达式 k in d, 使用哪个方式很大程度上完全取决于个人的喜好。但是在 python3 中并不包括这个函数"
   ]
  },
  {
   "cell_type": "markdown",
   "metadata": {},
   "source": [
    "#### 6. items 和 iteritems\n",
    "items 方法将字典所有的项以列表的方式返回，列表中的每一项都表示为（键，值）对的形式。但是项在返回时并没有遵循特定的次序。"
   ]
  },
  {
   "cell_type": "code",
   "execution_count": 15,
   "metadata": {},
   "outputs": [
    {
     "name": "stdout",
     "output_type": "stream",
     "text": [
      "dict_items([('title', 'Python Web Site'), ('url', 'http://www.python.org'), ('spam', 0)])\n"
     ]
    }
   ],
   "source": [
    "d = {'title': 'Python Web Site', 'url':'http://www.python.org','spam': 0}\n",
    "print(d.items())"
   ]
  },
  {
   "cell_type": "markdown",
   "metadata": {},
   "source": [
    "iteritems 方法的作用大致相同，但是会返回一个**迭代器对象**而不是列表："
   ]
  },
  {
   "cell_type": "code",
   "execution_count": 16,
   "metadata": {},
   "outputs": [
    {
     "ename": "AttributeError",
     "evalue": "'dict' object has no attribute 'iteritems'",
     "output_type": "error",
     "traceback": [
      "\u001b[1;31m---------------------------------------------------------------------------\u001b[0m",
      "\u001b[1;31mAttributeError\u001b[0m                            Traceback (most recent call last)",
      "\u001b[1;32m<ipython-input-16-73a6f63643b8>\u001b[0m in \u001b[0;36m<module>\u001b[1;34m()\u001b[0m\n\u001b[1;32m----> 1\u001b[1;33m \u001b[0mit\u001b[0m \u001b[1;33m=\u001b[0m \u001b[0md\u001b[0m\u001b[1;33m.\u001b[0m\u001b[0miteritems\u001b[0m\u001b[1;33m(\u001b[0m\u001b[1;33m)\u001b[0m\u001b[1;33m\u001b[0m\u001b[0m\n\u001b[0m\u001b[0;32m      2\u001b[0m \u001b[0mprint\u001b[0m\u001b[1;33m(\u001b[0m\u001b[0mit\u001b[0m\u001b[1;33m)\u001b[0m\u001b[1;33m\u001b[0m\u001b[0m\n",
      "\u001b[1;31mAttributeError\u001b[0m: 'dict' object has no attribute 'iteritems'"
     ]
    }
   ],
   "source": [
    "it = d.iteritems()\n",
    "print(it)"
   ]
  },
  {
   "cell_type": "markdown",
   "metadata": {},
   "source": [
    "从上面的结果可以看出，python 3 中已经没有了这个函数。\n",
    "但是很多情况下使用 iteritems 会更加高效。关于迭代器在后面的章节会进行详细的介绍。"
   ]
  },
  {
   "cell_type": "markdown",
   "metadata": {},
   "source": [
    "#### 7. keys 和 iterkeys\n",
    "keys 方法将字典中的键以列表形式返回，而iterkeys 则返回针对键的迭代器。"
   ]
  },
  {
   "cell_type": "markdown",
   "metadata": {},
   "source": [
    "#### 8.pop\n",
    "pop 方法用来获得对应于给定键的值，然后将这个键-值对从字典中移除"
   ]
  },
  {
   "cell_type": "code",
   "execution_count": 1,
   "metadata": {
    "collapsed": true
   },
   "outputs": [
    {
     "data": {
      "text/plain": [
       "1"
      ]
     },
     "execution_count": 1,
     "metadata": {},
     "output_type": "execute_result"
    }
   ],
   "source": [
    "d = {'x':1, 'y':2}\n",
    "d.pop('x')"
   ]
  },
  {
   "cell_type": "code",
   "execution_count": 2,
   "metadata": {
    "collapsed": true
   },
   "outputs": [
    {
     "name": "stdout",
     "output_type": "stream",
     "text": [
      "{'y': 2}\n"
     ]
    }
   ],
   "source": [
    "print(d)"
   ]
  },
  {
   "cell_type": "markdown",
   "metadata": {},
   "source": [
    "#### 9. popitem\n",
    "popitem 方法类似于 list.pop，而后者会弹出列表的最后一个元素。但是不同的是，popitem 弹出随机的项，因为字典并没有“最后的元素” 或者其他有关顺序的概念。如果想一个接一个地移除并处理项，这个方法就非常有效了，因为不用首先获取键的列表。"
   ]
  },
  {
   "cell_type": "code",
   "execution_count": 3,
   "metadata": {
    "collapsed": true
   },
   "outputs": [
    {
     "name": "stdout",
     "output_type": "stream",
     "text": [
      "{'title': 'Python Web Site', 'url': 'http://www.python.org', 'spam': 0}\n"
     ]
    }
   ],
   "source": [
    "d = {'title': 'Python Web Site', 'url':'http://www.python.org','spam': 0}\n",
    "print(d)"
   ]
  },
  {
   "cell_type": "code",
   "execution_count": 4,
   "metadata": {
    "collapsed": true
   },
   "outputs": [
    {
     "data": {
      "text/plain": [
       "('spam', 0)"
      ]
     },
     "execution_count": 4,
     "metadata": {},
     "output_type": "execute_result"
    }
   ],
   "source": [
    "d.popitem()"
   ]
  },
  {
   "cell_type": "code",
   "execution_count": 5,
   "metadata": {
    "collapsed": true
   },
   "outputs": [
    {
     "name": "stdout",
     "output_type": "stream",
     "text": [
      "{'title': 'Python Web Site', 'url': 'http://www.python.org'}\n"
     ]
    }
   ],
   "source": [
    "print(d)"
   ]
  },
  {
   "cell_type": "code",
   "execution_count": 6,
   "metadata": {
    "collapsed": true
   },
   "outputs": [
    {
     "data": {
      "text/plain": [
       "('url', 'http://www.python.org')"
      ]
     },
     "execution_count": 6,
     "metadata": {},
     "output_type": "execute_result"
    }
   ],
   "source": [
    "d.popitem()"
   ]
  },
  {
   "cell_type": "code",
   "execution_count": 7,
   "metadata": {
    "collapsed": true
   },
   "outputs": [
    {
     "name": "stdout",
     "output_type": "stream",
     "text": [
      "{'title': 'Python Web Site'}\n"
     ]
    }
   ],
   "source": [
    "print(d)"
   ]
  },
  {
   "cell_type": "markdown",
   "metadata": {},
   "source": [
    "尽管 popitem 方法和列表中 pop 的方法很类似，但是字典中没有与 append 等价的方法。因为字典是无序的，类似于 append 的方法是没有任何意义的。"
   ]
  },
  {
   "cell_type": "markdown",
   "metadata": {},
   "source": [
    "#### 10.setdefault\n",
    "setdefault 这个方法在某种程度上类似于 get 的方法，能够获得与给定键值相关联的值，除此之外，这个函数还能在字典中不含有给定键值的情况下设定相应的键值。"
   ]
  },
  {
   "cell_type": "code",
   "execution_count": 2,
   "metadata": {
    "collapsed": true
   },
   "outputs": [
    {
     "data": {
      "text/plain": [
       "'N/A'"
      ]
     },
     "execution_count": 2,
     "metadata": {},
     "output_type": "execute_result"
    }
   ],
   "source": [
    "d ={}\n",
    "d.setdefault('name', 'N/A')"
   ]
  },
  {
   "cell_type": "code",
   "execution_count": 3,
   "metadata": {
    "collapsed": true
   },
   "outputs": [
    {
     "name": "stdout",
     "output_type": "stream",
     "text": [
      "{'name': 'N/A'}\n"
     ]
    }
   ],
   "source": [
    "print(d)"
   ]
  },
  {
   "cell_type": "code",
   "execution_count": 4,
   "metadata": {
    "collapsed": true
   },
   "outputs": [
    {
     "data": {
      "text/plain": [
       "'Gumby'"
      ]
     },
     "execution_count": 4,
     "metadata": {},
     "output_type": "execute_result"
    }
   ],
   "source": [
    "d['name'] = 'Gumby'\n",
    "d.setdefault('name', 'N/A')"
   ]
  },
  {
   "cell_type": "code",
   "execution_count": 5,
   "metadata": {},
   "outputs": [
    {
     "name": "stdout",
     "output_type": "stream",
     "text": [
      "{'name': 'Gumby'}\n"
     ]
    }
   ],
   "source": [
    "print(d)"
   ]
  },
  {
   "cell_type": "markdown",
   "metadata": {},
   "source": [
    "可以看到，当键值不存在的时候，setdefault 返回默认值并相应的更新字典。如果键存在，那么就返回与其对应的值，但是不改变字典。默认值是可选的，这点和 get 函数相同。如果不设定，会默认使用 None"
   ]
  },
  {
   "cell_type": "markdown",
   "metadata": {},
   "source": [
    "#### 11. update\n",
    "update 方法可以利用一个字典项更新另外一个字典："
   ]
  },
  {
   "cell_type": "code",
   "execution_count": 6,
   "metadata": {
    "collapsed": true
   },
   "outputs": [],
   "source": [
    "d = {'title': 'Python Web Site', 'url':'http://www.python.org','spam': 0}"
   ]
  },
  {
   "cell_type": "code",
   "execution_count": 7,
   "metadata": {
    "collapsed": true
   },
   "outputs": [],
   "source": [
    "x = {'title': 'Python Language Website'}"
   ]
  },
  {
   "cell_type": "code",
   "execution_count": 8,
   "metadata": {
    "collapsed": true
   },
   "outputs": [],
   "source": [
    "d.update(x)"
   ]
  },
  {
   "cell_type": "code",
   "execution_count": 9,
   "metadata": {},
   "outputs": [
    {
     "name": "stdout",
     "output_type": "stream",
     "text": [
      "{'title': 'Python Language Website', 'url': 'http://www.python.org', 'spam': 0}\n"
     ]
    }
   ],
   "source": [
    "print(d)"
   ]
  },
  {
   "cell_type": "markdown",
   "metadata": {},
   "source": [
    "提供字典中的项会被添加到旧的字典中，如果有相同的键值则会**进行覆盖操作**"
   ]
  },
  {
   "cell_type": "markdown",
   "metadata": {},
   "source": [
    "#### 12. values 和 itervalues\n",
    "values 方法以列表的形式返回字典中的值（itervalues返回值得迭代器）。与返回键的列表不同的是，返回值的列表中可以包含重复的元素。"
   ]
  },
  {
   "cell_type": "code",
   "execution_count": 10,
   "metadata": {},
   "outputs": [
    {
     "data": {
      "text/plain": [
       "dict_values([1, 2, 3, 1])"
      ]
     },
     "execution_count": 10,
     "metadata": {},
     "output_type": "execute_result"
    }
   ],
   "source": [
    "d = {}\n",
    "d[1] = 1\n",
    "d[2] = 2\n",
    "d[3] = 3\n",
    "d[4] = 1\n",
    "d.values()\n"
   ]
  },
  {
   "cell_type": "markdown",
   "metadata": {},
   "source": [
    "# 5.条件、循环和其他语句"
   ]
  },
  {
   "cell_type": "markdown",
   "metadata": {},
   "source": [
    "## 把某件事作为另一件事的导入\n",
    "从模块导入函数的时候，通常可以使用"
   ]
  },
  {
   "cell_type": "markdown",
   "metadata": {},
   "source": [
    "import somemodule"
   ]
  },
  {
   "cell_type": "markdown",
   "metadata": {},
   "source": [
    "或者 ：\n",
    "from some module import somefunction"
   ]
  },
  {
   "cell_type": "markdown",
   "metadata": {},
   "source": [
    "或者：from some module import *"
   ]
  },
  {
   "cell_type": "markdown",
   "metadata": {},
   "source": [
    "只有确定自己想要从给定模块导入所有的功能时，才会使用最后一个版本。但是如果两个模块都有 open 函数，那么只需要用第一种方式进行导入，然后使用下面的方法："
   ]
  },
  {
   "cell_type": "code",
   "execution_count": null,
   "metadata": {
    "collapsed": true
   },
   "outputs": [],
   "source": [
    "module1.open()\n",
    "module2.open()"
   ]
  },
  {
   "cell_type": "markdown",
   "metadata": {},
   "source": [
    "当然也有另外的选择，就是可以在语句莫为增加一个 as 子句，然后在子句后给出想要使用的别名，如下所示："
   ]
  },
  {
   "cell_type": "code",
   "execution_count": 11,
   "metadata": {},
   "outputs": [
    {
     "name": "stdout",
     "output_type": "stream",
     "text": [
      "2.0\n"
     ]
    }
   ],
   "source": [
    "import math as foobar\n",
    "a = foobar.sqrt(4)\n",
    "print(a)"
   ]
  },
  {
   "cell_type": "markdown",
   "metadata": {},
   "source": [
    "## 5.2 赋值"
   ]
  },
  {
   "cell_type": "markdown",
   "metadata": {},
   "source": [
    "### 5.2.1 序列解包\n",
    "在 python 中，多个赋值操作可以同时进行："
   ]
  },
  {
   "cell_type": "code",
   "execution_count": 15,
   "metadata": {},
   "outputs": [
    {
     "name": "stdout",
     "output_type": "stream",
     "text": [
      "1 2 3\n"
     ]
    }
   ],
   "source": [
    "x, y, z = 1, 2, 3\n",
    "print(x, y, z)"
   ]
  },
  {
   "cell_type": "markdown",
   "metadata": {},
   "source": [
    "利用这种特性，我们可以很容易的对两个变量进行交换"
   ]
  },
  {
   "cell_type": "code",
   "execution_count": 16,
   "metadata": {},
   "outputs": [
    {
     "name": "stdout",
     "output_type": "stream",
     "text": [
      "2 1 3\n"
     ]
    }
   ],
   "source": [
    "x, y = y, x\n",
    "print(x, y ,z)"
   ]
  },
  {
   "cell_type": "markdown",
   "metadata": {},
   "source": [
    "事实上，这里所做的事叫做 **序列解包**或**递归解包**————将多个值得序列解开，然后放到变量中的序列中。更形象一点的表示如下所示："
   ]
  },
  {
   "cell_type": "code",
   "execution_count": 17,
   "metadata": {},
   "outputs": [
    {
     "name": "stdout",
     "output_type": "stream",
     "text": [
      "(1, 2, 3)\n"
     ]
    }
   ],
   "source": [
    "values = 1, 2, 3\n",
    "print(values)"
   ]
  },
  {
   "cell_type": "code",
   "execution_count": 18,
   "metadata": {},
   "outputs": [
    {
     "name": "stdout",
     "output_type": "stream",
     "text": [
      "1\n"
     ]
    }
   ],
   "source": [
    "x, y ,z = values\n",
    "print(x)"
   ]
  },
  {
   "cell_type": "markdown",
   "metadata": {},
   "source": [
    "当函数或者方法返回元组（或者是其他序列或可迭代的对象时），这个特性特别有用。假设需要获取（和删除）字典中任意的 键-值对，可以使用 popitem 方法，这个方法将 键-值 作为元组进行返回。那么这两个元组就可以直接赋值到两个变量中："
   ]
  },
  {
   "cell_type": "code",
   "execution_count": 21,
   "metadata": {},
   "outputs": [
    {
     "name": "stdout",
     "output_type": "stream",
     "text": [
      "girlfriend Marion\n"
     ]
    }
   ],
   "source": [
    "scoundre1 = {'name':'Robin', 'girlfriend': 'Marion'}\n",
    "key, value = scoundre1.popitem()\n",
    "print(key, value)"
   ]
  },
  {
   "cell_type": "markdown",
   "metadata": {},
   "source": [
    "这种特性也允许函数返回一个以上的值并打包成为元组，然后通过一个赋值语句很容易进行访问。所解包的序列中的元素数量必须和放置在赋值符号 = 左边的变量数量完全一致，否则 python 会在赋值过程中发生异常。"
   ]
  },
  {
   "cell_type": "markdown",
   "metadata": {},
   "source": [
    "**注意**，在Python 3 中海油另外一个解包特性：\n",
    "可以像在函数的参数列表中一样使用型号运算符。例如："
   ]
  },
  {
   "cell_type": "code",
   "execution_count": 23,
   "metadata": {},
   "outputs": [
    {
     "name": "stdout",
     "output_type": "stream",
     "text": [
      "1 2 [3]\n"
     ]
    }
   ],
   "source": [
    "a, b, *rest = [1, 2, 3]\n",
    "print(a, b, rest)"
   ]
  },
  {
   "cell_type": "markdown",
   "metadata": {},
   "source": [
    "可以看到，最终会在将 a, b 都赋值之后，将所有其他的参数都收集到 rest中，并作为一个列表进行返回。当然，带型号的成分也可以放在第一个位置，这样，它就总会包含一个列表。右侧的赋值语句可以使可迭代的对象。"
   ]
  },
  {
   "cell_type": "markdown",
   "metadata": {},
   "source": [
    "## 5.4 条件和条件语句\n",
    "在python 中，下面的值作为布尔表达式的时候，会被解释器看做是假（false）的："
   ]
  },
  {
   "cell_type": "markdown",
   "metadata": {},
   "source": [
    "False    None   0    \"\"     ()    []    {}"
   ]
  },
  {
   "cell_type": "markdown",
   "metadata": {},
   "source": [
    "也就是说，标准的 False 和 None、所有类型的数字0（包括浮点型、长整型和其他类型）、空序列（比如元组和列表）以及空的字典都是假的，其他的一切都被解释为 真，包括特殊值 True"
   ]
  },
  {
   "cell_type": "markdown",
   "metadata": {},
   "source": [
    "### 5.4.4 elif 子句\n",
    "如果需要检查多个条件，就可以使用 elif语句，它是 else if 的缩写。也是 if 和 else 的联合使用。也就是具有**条件**的else 子句"
   ]
  },
  {
   "cell_type": "code",
   "execution_count": 27,
   "metadata": {},
   "outputs": [
    {
     "name": "stdout",
     "output_type": "stream",
     "text": [
      "num < 0\n"
     ]
    }
   ],
   "source": [
    "num = input('Enter a number:')\n",
    "if int(num) > 0:\n",
    "    print(\"num > 0\")\n",
    "elif int(num) < 0:\n",
    "    print(\"num < 0\")\n",
    "else:\n",
    "    print(\"num = 0\")"
   ]
  },
  {
   "cell_type": "markdown",
   "metadata": {},
   "source": [
    "### 其他：\n",
    "and 运算符就是所谓的布尔运算符。它连接两个布尔值，并且在两者都为真的时候返回真，否则返回假。与它同类的还有两个运算符，即 or 和 not。使用这三个运算符就可以随意结合真值。"
   ]
  },
  {
   "cell_type": "code",
   "execution_count": 29,
   "metadata": {
    "collapsed": true
   },
   "outputs": [],
   "source": [
    "if ((2>1) or (3))and not 4:\n",
    "    print(1)"
   ]
  },
  {
   "cell_type": "markdown",
   "metadata": {},
   "source": [
    "### 短路逻辑"
   ]
  },
  {
   "cell_type": "markdown",
   "metadata": {},
   "source": [
    "布尔运算符有个有趣的特性：**只有在需要求值时才进行求值**。也就是说，表达式 x and y 在两个结果都为真时结果才为真，所以如果 x 为假，则表达式会返回 x 的值————否则就返回 y 的值。这种逻辑也就是我们所说的**短路逻辑**。"
   ]
  },
  {
   "cell_type": "markdown",
   "metadata": {},
   "source": [
    "### 断言机制\n",
    "在程序中，当要求只有某些条件必须为真时，这是就需要引入“断言”机制。关键字是：“assert”"
   ]
  },
  {
   "cell_type": "markdown",
   "metadata": {},
   "source": [
    "如果需要确保程序中的某个条件一定为真才能让程序正常工作的话，assert 语句就有用了，它可以在程序中置入检查点："
   ]
  },
  {
   "cell_type": "code",
   "execution_count": 32,
   "metadata": {},
   "outputs": [
    {
     "ename": "AssertionError",
     "evalue": "The age must be positive number!",
     "output_type": "error",
     "traceback": [
      "\u001b[0;31m---------------------------------------------------------------------------\u001b[0m",
      "\u001b[0;31mAssertionError\u001b[0m                            Traceback (most recent call last)",
      "\u001b[0;32m<ipython-input-32-9c76073612e1>\u001b[0m in \u001b[0;36m<module>\u001b[0;34m()\u001b[0m\n\u001b[1;32m      1\u001b[0m \u001b[0mage\u001b[0m \u001b[0;34m=\u001b[0m \u001b[0;34m-\u001b[0m\u001b[0;36m1\u001b[0m\u001b[0;34m\u001b[0m\u001b[0m\n\u001b[0;32m----> 2\u001b[0;31m \u001b[0;32massert\u001b[0m \u001b[0;36m0\u001b[0m \u001b[0;34m<\u001b[0m \u001b[0mage\u001b[0m \u001b[0;34m<\u001b[0m \u001b[0;36m100\u001b[0m\u001b[0;34m,\u001b[0m \u001b[0;34m'The age must be positive number!'\u001b[0m\u001b[0;34m\u001b[0m\u001b[0m\n\u001b[0m",
      "\u001b[0;31mAssertionError\u001b[0m: The age must be positive number!"
     ]
    }
   ],
   "source": [
    "age = -1\n",
    "assert 0 < age < 100, 'The age must be positive number!'"
   ]
  },
  {
   "cell_type": "markdown",
   "metadata": {},
   "source": [
    "## 5.5 循环"
   ]
  },
  {
   "cell_type": "markdown",
   "metadata": {},
   "source": [
    "### 5.5.1 while 循环\n",
    "这里直接使用相应的例子进行说明"
   ]
  },
  {
   "cell_type": "code",
   "execution_count": 1,
   "metadata": {},
   "outputs": [
    {
     "name": "stdout",
     "output_type": "stream",
     "text": [
      "Please enter your name: name\n",
      "Hello, name!\n"
     ]
    }
   ],
   "source": [
    "name =''\n",
    "while not name:\n",
    "    name = input('Please enter your name: ')\n",
    "print(\"Hello, %s!\" %name)"
   ]
  },
  {
   "cell_type": "markdown",
   "metadata": {},
   "source": [
    "### 5.5.2 for循环\n",
    "while 语句非常零花。它可以用来在任何条件为真的情况下重读执行一个代码块。一般情况下这样就够用了，但是有的时候还是需要进行量体裁衣。比如要为一个集合（序列或其他可以迭代的对象）的每个元素都执行一个代码块"
   ]
  },
  {
   "cell_type": "markdown",
   "metadata": {},
   "source": [
    "在这个时候可以使用 for 语句："
   ]
  },
  {
   "cell_type": "code",
   "execution_count": 2,
   "metadata": {},
   "outputs": [
    {
     "name": "stdout",
     "output_type": "stream",
     "text": [
      "this\n",
      "is\n",
      "an\n",
      "ex\n",
      "parrot\n"
     ]
    }
   ],
   "source": [
    "words = ['this','is','an','ex','parrot']\n",
    "for word in words:\n",
    "    print(word)"
   ]
  },
  {
   "cell_type": "code",
   "execution_count": 3,
   "metadata": {},
   "outputs": [
    {
     "name": "stdout",
     "output_type": "stream",
     "text": [
      "0\n",
      "1\n",
      "2\n",
      "3\n",
      "4\n",
      "5\n",
      "6\n",
      "7\n",
      "8\n",
      "9\n"
     ]
    }
   ],
   "source": [
    "numbers =[0, 1, 2, 3, 4, 5, 6, 7,8, 9]\n",
    "for number in numbers:\n",
    "    print(number)"
   ]
  },
  {
   "cell_type": "markdown",
   "metadata": {},
   "source": [
    "因为迭代某个范围内的数字是很常见的，所以有个内建的范围函数可以使用"
   ]
  },
  {
   "cell_type": "code",
   "execution_count": 7,
   "metadata": {},
   "outputs": [
    {
     "name": "stdout",
     "output_type": "stream",
     "text": [
      "range(0, 10)\n"
     ]
    }
   ],
   "source": [
    "print(range(0, 10))"
   ]
  },
  {
   "cell_type": "markdown",
   "metadata": {},
   "source": [
    "在range 中，包括下限，但是并不包括上限。"
   ]
  },
  {
   "cell_type": "code",
   "execution_count": 8,
   "metadata": {},
   "outputs": [
    {
     "name": "stdout",
     "output_type": "stream",
     "text": [
      "1\n",
      "2\n",
      "3\n",
      "4\n",
      "5\n",
      "6\n",
      "7\n",
      "8\n",
      "9\n"
     ]
    }
   ],
   "source": [
    "for i in range(1,10):\n",
    "    print(i)"
   ]
  },
  {
   "cell_type": "markdown",
   "metadata": {},
   "source": [
    "通常在程序中，如果能够使用 for 循环，那么一般不使用 while"
   ]
  },
  {
   "cell_type": "markdown",
   "metadata": {},
   "source": [
    "此外，在 Python 中，还有一个内建函数是 xrange，他们的区别是 range 函数一次会创建整个序列，但是 xrange 一次只会创建一个数。当在迭代一个巨大的序列的时候 xrange 会更加高效。不过在一般情况下不需要过多的关注他。"
   ]
  },
  {
   "cell_type": "markdown",
   "metadata": {},
   "source": [
    "但是在 Python 3 中，range 会被转换成为 xrange 风格的函数"
   ]
  },
  {
   "cell_type": "markdown",
   "metadata": {},
   "source": [
    "### 5.5.3 循环遍历字典元素"
   ]
  },
  {
   "cell_type": "markdown",
   "metadata": {},
   "source": [
    "一个简单的 for 语句就能够遍历字典中的所有键，就像遍历访问序列一样，如下所示："
   ]
  },
  {
   "cell_type": "code",
   "execution_count": 1,
   "metadata": {
    "collapsed": true
   },
   "outputs": [
    {
     "name": "stdout",
     "output_type": "stream",
     "text": [
      "x corresponds to: 1\n",
      "y corresponds to: 2\n",
      "z corresponds to: 3\n"
     ]
    }
   ],
   "source": [
    "d = {'x':1, 'y':2, 'z':3}\n",
    "for key in d:\n",
    "    print(key, 'corresponds to:', d[key])"
   ]
  },
  {
   "cell_type": "markdown",
   "metadata": {},
   "source": [
    "需要注意的是，字典元素的顺序通常是没有定义的。换句话说，迭代的时候，字典中的键和值都能保证被处理，但是处理顺序不确定。如果顺序很重要的话，可以将键值保存在\n",
    "单独的列表中，例如在迭代之前进行排序。"
   ]
  },
  {
   "cell_type": "markdown",
   "metadata": {},
   "source": [
    "### 5.5.4 一些迭代工具\n",
    "在 Python 中迭代序列（或者其他可以迭代的对象）时，有一些函数非常有用，下面分别进行简单介绍。"
   ]
  },
  {
   "cell_type": "markdown",
   "metadata": {},
   "source": [
    "#### 1.并行迭代\n",
    "程序可以同时迭代两个迭代。比如有下面两个列表："
   ]
  },
  {
   "cell_type": "code",
   "execution_count": 3,
   "metadata": {
    "collapsed": true
   },
   "outputs": [],
   "source": [
    "names = ['anne', 'beth', 'george', 'damon']\n",
    "ages = [12, 45, 32, 102]"
   ]
  },
  {
   "cell_type": "markdown",
   "metadata": {},
   "source": [
    "如果想要打印名字和对应的年龄，可以像下面这样做："
   ]
  },
  {
   "cell_type": "code",
   "execution_count": 4,
   "metadata": {},
   "outputs": [
    {
     "name": "stdout",
     "output_type": "stream",
     "text": [
      "anne is 45 years old\n",
      "beth is 45 years old\n",
      "george is 45 years old\n",
      "damon is 45 years old\n"
     ]
    }
   ],
   "source": [
    "for i in range(len(names)):\n",
    "    print(names[i], 'is', ages[1], 'years old')"
   ]
  },
  {
   "cell_type": "markdown",
   "metadata": {},
   "source": [
    "这里 i 是循环索引的标准变量名"
   ]
  },
  {
   "cell_type": "markdown",
   "metadata": {},
   "source": [
    "而內建的 zip 函数就可以用来进行并行迭代，可以把两个序列 “压缩” 到一起，然后返回一个元组的列表"
   ]
  },
  {
   "cell_type": "code",
   "execution_count": 6,
   "metadata": {},
   "outputs": [
    {
     "name": "stdout",
     "output_type": "stream",
     "text": [
      "<zip object at 0x10b3ddc48>\n"
     ]
    }
   ],
   "source": [
    "print(zip(names, ages))"
   ]
  },
  {
   "cell_type": "markdown",
   "metadata": {},
   "source": [
    "现在可以在循环中解包元组："
   ]
  },
  {
   "cell_type": "code",
   "execution_count": 7,
   "metadata": {},
   "outputs": [
    {
     "name": "stdout",
     "output_type": "stream",
     "text": [
      "anne is 12 years old\n",
      "beth is 45 years old\n",
      "george is 32 years old\n",
      "damon is 102 years old\n"
     ]
    }
   ],
   "source": [
    "for name, age in zip(names, ages):\n",
    "    print(name, 'is', age, 'years old')"
   ]
  },
  {
   "cell_type": "markdown",
   "metadata": {},
   "source": [
    "zip 函数也可以用于任意多的序列。其中很重要的一点就是 zip 函数可以处理不等长的序列，当短序列“用完”的时候就会停止"
   ]
  },
  {
   "cell_type": "code",
   "execution_count": 8,
   "metadata": {},
   "outputs": [
    {
     "name": "stdout",
     "output_type": "stream",
     "text": [
      "0   0\n",
      "1   1\n",
      "2   2\n",
      "3   3\n",
      "4   4\n"
     ]
    }
   ],
   "source": [
    "for a,b in zip(range(5), range(10000)):\n",
    "    print(a,\" \", b)"
   ]
  },
  {
   "cell_type": "markdown",
   "metadata": {},
   "source": [
    "#### 2.按索引迭代"
   ]
  },
  {
   "cell_type": "markdown",
   "metadata": {},
   "source": [
    "有时候想要迭代访问序列中的对象，同时还要获取当前对象的索引。例如，在一个字符串列表中替换所有包含 ‘xxx’ 的字符串。实现的方法有很多，假设可以像下面这样做："
   ]
  },
  {
   "cell_type": "raw",
   "metadata": {},
   "source": [
    "for stirng in strings:\n",
    "    if 'xxx' in string:\n",
    "        index = strings.index(string)  # Search for the string in the list of strings\n",
    "        strings[index] = '[censored]'"
   ]
  },
  {
   "cell_type": "markdown",
   "metadata": {},
   "source": [
    "像上面这样是没有任何问题的，但是在替换前要搜索给定的字符串似乎并没有必要。如果不进行替换的话，搜索还会返回错误的索引（前面出现的同一个词的索引）。另一个比较好的版本如下所示："
   ]
  },
  {
   "cell_type": "raw",
   "metadata": {},
   "source": [
    "index = 0\n",
    "for string in strings:\n",
    "    if 'xxx' in string:\n",
    "        string[index] = '[censored]'\n",
    "    index += 1"
   ]
  },
  {
   "cell_type": "markdown",
   "metadata": {},
   "source": [
    "上面这种方法虽然有些笨，但是还可以接受。另一种方法是使用內建的 enumrate 函数："
   ]
  },
  {
   "cell_type": "code",
   "execution_count": 3,
   "metadata": {},
   "outputs": [
    {
     "name": "stdout",
     "output_type": "stream",
     "text": [
      "['abc', 'sdgf', 'dfads', '[censored]', 'dfhdui', '[censored]', 'tiu']\n"
     ]
    }
   ],
   "source": [
    "strings = ['abc','sdgf','dfads','xxx','dfhdui','xxx','tiu']\n",
    "for index, string in enumerate(strings):\n",
    "    if 'xxx' in string:\n",
    "        strings[index] = '[censored]'\n",
    "\n",
    "print(strings)"
   ]
  },
  {
   "cell_type": "markdown",
   "metadata": {},
   "source": [
    "通过上面这段小程序可以说明，enumerate 这个內建函数可以在提供索引的地方迭代 索引-值 对"
   ]
  },
  {
   "cell_type": "markdown",
   "metadata": {},
   "source": [
    "#### 3.翻转和排序迭代"
   ]
  },
  {
   "cell_type": "markdown",
   "metadata": {},
   "source": [
    "下面看一下另外两个有用的函数： reversed 和 sorted"
   ]
  },
  {
   "cell_type": "markdown",
   "metadata": {},
   "source": [
    "这两个函数和列表的 reverse 和 sort （sorted 和 sort 函数使用相同的参数）方法类似，但是作用域任何可以迭代的对象上，但是并不是原地修改对象，而是返回修改后的对象。"
   ]
  },
  {
   "cell_type": "code",
   "execution_count": 4,
   "metadata": {},
   "outputs": [
    {
     "data": {
      "text/plain": [
       "[3, 4, 6, 7, 8]"
      ]
     },
     "execution_count": 4,
     "metadata": {},
     "output_type": "execute_result"
    }
   ],
   "source": [
    "sorted([4,3,6,8,7])"
   ]
  },
  {
   "cell_type": "code",
   "execution_count": 5,
   "metadata": {},
   "outputs": [
    {
     "data": {
      "text/plain": [
       "[' ', '!', 'H', 'W', 'd', 'e', 'l', 'l', 'l', 'o', 'o', 'r']"
      ]
     },
     "execution_count": 5,
     "metadata": {},
     "output_type": "execute_result"
    }
   ],
   "source": [
    "sorted('Hello World!')"
   ]
  },
  {
   "cell_type": "code",
   "execution_count": 6,
   "metadata": {},
   "outputs": [
    {
     "data": {
      "text/plain": [
       "['!', 'd', 'l', 'r', 'o', 'W', ' ', 'o', 'l', 'l', 'e', 'H']"
      ]
     },
     "execution_count": 6,
     "metadata": {},
     "output_type": "execute_result"
    }
   ],
   "source": [
    "list(reversed('Hello World!'))"
   ]
  },
  {
   "cell_type": "markdown",
   "metadata": {},
   "source": [
    "这里需要说明一下，通过上面程序我们可以看到，sorted 函数可以直接返回一个列表，但是reversed 函数却是返回一个更加不可思议的可迭代的对象。"
   ]
  },
  {
   "cell_type": "markdown",
   "metadata": {},
   "source": [
    "它们的具体含义这里我们不需要过多的关注，只需要直接在 for 循环 和 join 中进行使用，并且不会出向任何问题。不过却不能直接对它使用索引、分片以及调用 list 方法，如果希望进行上述处理，我们可以使用 list 来强制转换使得返回一个 list 类型的对象。上面的例子中已经给出了具体的做法。"
   ]
  },
  {
   "cell_type": "code",
   "execution_count": null,
   "metadata": {},
   "outputs": [],
   "source": []
  },
  {
   "cell_type": "code",
   "execution_count": null,
   "metadata": {},
   "outputs": [],
   "source": []
  },
  {
   "cell_type": "code",
   "execution_count": null,
   "metadata": {},
   "outputs": [],
   "source": []
  },
  {
   "cell_type": "code",
   "execution_count": null,
   "metadata": {},
   "outputs": [],
   "source": []
  },
  {
   "cell_type": "code",
   "execution_count": null,
   "metadata": {},
   "outputs": [],
   "source": []
  },
  {
   "cell_type": "code",
   "execution_count": null,
   "metadata": {},
   "outputs": [],
   "source": []
  },
  {
   "cell_type": "code",
   "execution_count": null,
   "metadata": {},
   "outputs": [],
   "source": []
  },
  {
   "cell_type": "code",
   "execution_count": null,
   "metadata": {},
   "outputs": [],
   "source": []
  },
  {
   "cell_type": "code",
   "execution_count": null,
   "metadata": {},
   "outputs": [],
   "source": []
  },
  {
   "cell_type": "code",
   "execution_count": null,
   "metadata": {},
   "outputs": [],
   "source": []
  },
  {
   "cell_type": "code",
   "execution_count": null,
   "metadata": {},
   "outputs": [],
   "source": []
  },
  {
   "cell_type": "code",
   "execution_count": null,
   "metadata": {},
   "outputs": [],
   "source": []
  },
  {
   "cell_type": "code",
   "execution_count": null,
   "metadata": {},
   "outputs": [],
   "source": []
  },
  {
   "cell_type": "code",
   "execution_count": null,
   "metadata": {},
   "outputs": [],
   "source": []
  }
 ],
 "metadata": {
  "kernelspec": {
   "display_name": "Python 3",
   "language": "python",
   "name": "python3"
  },
  "language_info": {
   "codemirror_mode": {
    "name": "ipython",
    "version": 3
   },
   "file_extension": ".py",
   "mimetype": "text/x-python",
   "name": "python",
   "nbconvert_exporter": "python",
   "pygments_lexer": "ipython3",
   "version": "3.6.3"
  }
 },
 "nbformat": 4,
 "nbformat_minor": 2
}
